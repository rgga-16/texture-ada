{
 "metadata": {
  "language_info": {
   "codemirror_mode": {
    "name": "ipython",
    "version": 3
   },
   "file_extension": ".py",
   "mimetype": "text/x-python",
   "name": "python",
   "nbconvert_exporter": "python",
   "pygments_lexer": "ipython3",
   "version": "3.6.12-final"
  },
  "orig_nbformat": 2,
  "kernelspec": {
   "name": "python361264bitkaolinconda4cd9d4838d124a59bea9fb74819cde52",
   "display_name": "Python 3.6.12 64-bit ('kaolin': conda)"
  }
 },
 "nbformat": 4,
 "nbformat_minor": 2,
 "cells": [
  {
   "cell_type": "code",
   "execution_count": 1,
   "metadata": {},
   "outputs": [],
   "source": [
    "import torch\n",
    "import style_transfer as st\n",
    "import utils\n",
    "from kao import MeshRendererModel,texture_transfer_gatys\n",
    "from args import parse_arguments\n",
    "from defaults import DEFAULTS as D"
   ]
  },
  {
   "cell_type": "code",
   "execution_count": 2,
   "metadata": {},
   "outputs": [],
   "source": [
    "def main():\n",
    "    print(\"Main Driver\")\n",
    "\n",
    "    style_path = D.STYLE_PATH()\n",
    "    mesh_path = D.MESH_PATH()\n",
    "    \n",
    "    # Load style furniture image\n",
    "    style = utils.image_to_tensor(utils.load_image(style_path)).detach()\n",
    "    \n",
    "    mesh = utils.load_mesh(mesh_path,has_textures=True)\n",
    "    \n",
    "    # Create model for 3D texture transfer\n",
    "    render_model = MeshRendererModel(mesh,style)\n",
    "    \n",
    "    # texture_transfer_gatys(render_model,style)"
   ]
  },
  {
   "cell_type": "code",
   "execution_count": 3,
   "metadata": {},
   "outputs": [
    {
     "output_type": "stream",
     "name": "stdout",
     "text": [
      "Main Driver\n"
     ]
    }
   ],
   "source": [
    "if __name__ == \"__main__\":\n",
    "    main()\n",
    "    "
   ]
  }
 ]
}